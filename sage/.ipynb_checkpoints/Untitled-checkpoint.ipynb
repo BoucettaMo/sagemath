{
 "cells": [
  {
   "cell_type": "code",
   "execution_count": 71,
   "id": "f2802109",
   "metadata": {},
   "outputs": [
    {
     "data": {
      "text/html": [
       "<html>\\(\\displaystyle \\left(\\begin{array}{rrr}\n",
       "-\\frac{1}{2} \\, u + \\frac{3}{4} & 0 & 0 \\\\\n",
       "0 & -\\frac{1}{2} \\, u + \\frac{1}{2} & 0 \\\\\n",
       "0 & 0 & \\frac{1}{2} \\, u\n",
       "\\end{array}\\right)\\)</html>"
      ],
      "text/latex": [
       "$\\displaystyle \\left(\\begin{array}{rrr}\n",
       "-\\frac{1}{2} \\, u + \\frac{3}{4} & 0 & 0 \\\\\n",
       "0 & -\\frac{1}{2} \\, u + \\frac{1}{2} & 0 \\\\\n",
       "0 & 0 & \\frac{1}{2} \\, u\n",
       "\\end{array}\\right)$"
      ],
      "text/plain": [
       "[-1/2*u + 3/4            0            0]\n",
       "[           0 -1/2*u + 1/2            0]\n",
       "[           0            0        1/2*u]"
      ]
     },
     "metadata": {},
     "output_type": "display_data"
    },
    {
     "data": {
      "text/html": [
       "<html>\\(\\displaystyle -\\frac{4 \\, a b + b^{2} + 2 \\, b c + c^{2}}{2 \\, a b c}\\)</html>"
      ],
      "text/latex": [
       "$\\displaystyle -\\frac{4 \\, a b + b^{2} + 2 \\, b c + c^{2}}{2 \\, a b c}$"
      ],
      "text/plain": [
       "-1/2*(4*a*b + b^2 + 2*b*c + c^2)/(a*b*c)"
      ]
     },
     "metadata": {},
     "output_type": "display_data"
    },
    {
     "data": {
      "text/plain": [
       "{(1, 2, 3): (0, 0, 1)}"
      ]
     },
     "execution_count": 71,
     "metadata": {},
     "output_type": "execute_result"
    }
   ],
   "source": [
    "%run nonassociativealgebraclass.ipynb\n",
    "%run liealgebraclass.ipynb\n",
    "\n",
    "var('mu,u,v,x,y,z,t,a,b,c,d')\n",
    "metric= matrix(3,{(0,0):a,(1,1):b,(2,2):c})\n",
    "leibniz = NonAssociativeAlgebra(3,[{},metric]) \n",
    "\n",
    "\n",
    "\n",
    "e1=leibniz.coordinates(1)\n",
    "e2=leibniz.coordinates(2)\n",
    "e3=leibniz.coordinates(3)\n",
    "\n",
    "leibniz.nonVanishingBracket(3,1,e2)\n",
    "leibniz.nonVanishingBracket(1,3,-e2)\n",
    "leibniz.nonVanishingBracket(2,2,e1)\n",
    "leibniz.nonVanishingBracket(3,2,-e1)\n",
    "leibniz.nonVanishingBracket(2,3,e1)\n",
    "leibniz.nonVanishingBracket(1,2,e3)\n",
    "leibniz.nonVanishingBracket(2,1,-e3)\n",
    "\n",
    "\n",
    "D=leibniz.ricciTensor()\n",
    "H=leibniz.leftMeanVector()\n",
    "L=leibniz.leftMultiplication(H)\n",
    "\n",
    "f(a,b,c)=factor(leibniz.ricciTensor().trace())\n",
    "\n",
    "g(a,b,c)=leibniz.ricciTensor()\n",
    "show(g(1,1,u))\n",
    "\n",
    "\n",
    "liealgebra = LieAlgebra(3,[{},metric])\n",
    "liealgebra.nonVanishingBracket(1,2,e3)\n",
    "liealgebra.nonVanishingBracket(1,3,e2)\n",
    "liealgebra.nonVanishingBracket(3,2,e2)\n",
    "\n",
    "show(factor(liealgebra.ricciTensor().trace()))\n",
    "\n",
    "liealgebra.jacobiAll()\n",
    "\n",
    "\n",
    "\n",
    "\n",
    "\n",
    "\n",
    "\n",
    "\n",
    "\n",
    "                \n",
    "\n",
    "\n",
    "\n",
    "\n",
    "\n",
    "\n",
    "\n",
    "\n",
    "    \n",
    "    "
   ]
  },
  {
   "cell_type": "code",
   "execution_count": null,
   "id": "76afdf8f",
   "metadata": {},
   "outputs": [],
   "source": []
  }
 ],
 "metadata": {
  "kernelspec": {
   "display_name": "SageMath 9.6",
   "language": "sage",
   "name": "sagemath-9.6"
  },
  "language_info": {
   "codemirror_mode": {
    "name": "ipython",
    "version": 3
   },
   "file_extension": ".py",
   "mimetype": "text/x-python",
   "name": "python",
   "nbconvert_exporter": "python",
   "pygments_lexer": "ipython3",
   "version": "3.10.3"
  }
 },
 "nbformat": 4,
 "nbformat_minor": 5
}
