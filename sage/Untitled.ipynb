{
 "cells": [
  {
   "cell_type": "code",
   "execution_count": 118,
   "id": "f2802109",
   "metadata": {},
   "outputs": [
    {
     "data": {
      "text/html": [
       "<html>\\(\\displaystyle \\left(\\begin{array}{rr}\n",
       "0 & 0 \\\\\n",
       "0 & 0\n",
       "\\end{array}\\right)\\)</html>"
      ],
      "text/latex": [
       "$\\displaystyle \\left(\\begin{array}{rr}\n",
       "0 & 0 \\\\\n",
       "0 & 0\n",
       "\\end{array}\\right)$"
      ],
      "text/plain": [
       "[0 0]\n",
       "[0 0]"
      ]
     },
     "metadata": {},
     "output_type": "display_data"
    },
    {
     "data": {
      "text/plain": [
       "[     b -a + d]\n",
       "[     c     -b]"
      ]
     },
     "execution_count": 118,
     "metadata": {},
     "output_type": "execute_result"
    }
   ],
   "source": [
    "%run nonassociativealgebraclass.ipynb\n",
    "%run liealgebraclass.ipynb\n",
    "%run commutativeAlgebras.ipynb\n",
    "\n",
    "var('w,u,v,x,y,z,t,a,b,c,d,p,q,r,s,m,n,h,j,k,l')\n",
    "metric= matrix(2,{(0,0):1,(1,1):1})\n",
    "leibniz = CommutativeAlgebra(2,[{},metric]) \n",
    "\n",
    "\n",
    "\n",
    "e1=leibniz.coordinates(1)\n",
    "e2=leibniz.coordinates(2)\n",
    "#e3=leibniz.coordinates(3)\n",
    "\n",
    "leibniz.nonVanishingBracket(1,2,b*e1+c*e2)\n",
    "leibniz.nonVanishingBracket(1,1,a*e1+b*e2)\n",
    "leibniz.nonVanishingBracket(2,2,(d-a)*e1-b*e2)\n",
    "\n",
    "R=leibniz.ricciTensor().simplify_full()\n",
    "H=leibniz.meanBracketVector()\n",
    "L=leibniz.adjoint(H)-leibniz.metricTranspose(leibniz.adjoint(H))\n",
    "#S=solve([R[0,0]==R[1,1],R[0,1]==0,R[1,0]==0],[a,b,c,d,y])\n",
    "#show([factor(R[0,0]-R[1,1]),factor(R[0,1])]),show(factor(L[0,1]))\n",
    "show(R.substitute(b=0,a=d).simplify_full()),H,leibniz.adjoint(H)\n",
    "factor(R.substitute(b=0,a=d)[0,0]-R.substitute(b=0,a=d)[1,1])\n",
    "leibniz.adjoint(e2)\n",
    "\n",
    "\n"
   ]
  },
  {
   "cell_type": "code",
   "execution_count": null,
   "id": "76afdf8f",
   "metadata": {},
   "outputs": [],
   "source": []
  }
 ],
 "metadata": {
  "kernelspec": {
   "display_name": "SageMath 9.6",
   "language": "sage",
   "name": "sagemath-9.6"
  },
  "language_info": {
   "codemirror_mode": {
    "name": "ipython",
    "version": 3
   },
   "file_extension": ".py",
   "mimetype": "text/x-python",
   "name": "python",
   "nbconvert_exporter": "python",
   "pygments_lexer": "ipython3",
   "version": "3.10.3"
  }
 },
 "nbformat": 4,
 "nbformat_minor": 5
}
